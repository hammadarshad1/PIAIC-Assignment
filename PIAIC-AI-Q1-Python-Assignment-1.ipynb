{
 "cells": [
  {
   "cell_type": "markdown",
   "metadata": {},
   "source": [
    "# Python Programming Assignment N0.1"
   ]
  },
  {
   "cell_type": "raw",
   "metadata": {},
   "source": [
    "Name = Muhammad Hammad\n",
    "Roll No: AIC009127\n",
    "Center: Saylani Welfare Head Office\n",
    "Days / time: Saturday-3:30PM to 6:30PM"
   ]
  },
  {
   "cell_type": "code",
   "execution_count": 36,
   "metadata": {},
   "outputs": [
    {
     "name": "stdout",
     "output_type": "stream",
     "text": [
      "Enter radius of circle: 0.5\n",
      "0.7853981633974483\n"
     ]
    }
   ],
   "source": [
    "# Write a Python program which accepts the radius of a circle from the user and compute the area.\n",
    "import math\n",
    "r = float(input('Enter radius of circle: '))\n",
    "area = math.pi * pow(r, 2)\n",
    "print(area)"
   ]
  },
  {
   "cell_type": "code",
   "execution_count": 24,
   "metadata": {},
   "outputs": [
    {
     "name": "stdout",
     "output_type": "stream",
     "text": [
      "Enter a number: -3\n",
      "Entered number is Negative!\n"
     ]
    }
   ],
   "source": [
    "# Write a Python program to check if a number is positive, negative or zero\n",
    "number = float(input('Enter a number: '))\n",
    "if number > 0:\n",
    "    print('Entered number is positive!')\n",
    "elif number < 0:\n",
    "    print('Entered number is Negative!')\n",
    "else:\n",
    "    print(\"Entered number is Zero!\")"
   ]
  },
  {
   "cell_type": "code",
   "execution_count": 37,
   "metadata": {},
   "outputs": [
    {
     "name": "stdout",
     "output_type": "stream",
     "text": [
      "Enter Numerator: 4.0\n",
      "Enter Denumerator: 2.0\n",
      "4.0 is completely divide by 2.0\n"
     ]
    }
   ],
   "source": [
    "# Write a Python program to check whether a number is completely divisible by another number. Accept two integer values form the user\n",
    "n = float(input('Enter Numerator: '))\n",
    "d = float(input('Enter Denumerator: '))\n",
    "if n % d == 0:\n",
    "    print(\"{} is completely divide by {}\".format(n, d))\n",
    "else:\n",
    "    print(\"{} is not completely divide by {}\".format(n, d))"
   ]
  },
  {
   "cell_type": "code",
   "execution_count": 31,
   "metadata": {},
   "outputs": [
    {
     "name": "stdout",
     "output_type": "stream",
     "text": [
      "Enter start date in that format dd/mmm/yyyy:01/02/2019\n",
      "Enter end date in that format dd/mmm/yyyy:05/02/2019\n",
      "4 days\n"
     ]
    }
   ],
   "source": [
    "# Write a Python program to calculate number of days between two dates\n",
    "from datetime import datetime\n",
    "first = input('Enter start date in that format dd/mmm/yyyy:')\n",
    "second = input('Enter end date in that format dd/mmm/yyyy:')\n",
    "d_format = \"%d/%m/%Y\"\n",
    "a = datetime.strptime(first, d_format)\n",
    "b = datetime.strptime(second, d_format)\n",
    "print((b-a).days, \"days\")\n"
   ]
  },
  {
   "cell_type": "code",
   "execution_count": 39,
   "metadata": {},
   "outputs": [
    {
     "name": "stdout",
     "output_type": "stream",
     "text": [
      "Enter a radius of a sphere: 1\n",
      "Area of Sphere is =  4.1887902047863905\n"
     ]
    }
   ],
   "source": [
    "# Write a Python program to get the volume of a sphere, please take the radius as input from user\n",
    "import math\n",
    "r = float(input('Enter a radius of a sphere: '))\n",
    "a = (4/3) * pi * r**3\n",
    "print(\"Area of Sphere is = \", a)"
   ]
  },
  {
   "cell_type": "code",
   "execution_count": 15,
   "metadata": {},
   "outputs": [
    {
     "name": "stdout",
     "output_type": "stream",
     "text": [
      "Enter String: HI\n",
      "How many copies do you want: 4\n",
      "HI\n",
      "HI\n",
      "HI\n",
      "HI\n"
     ]
    }
   ],
   "source": [
    "# Write a Python program to get a string which is n (non-negative integer) copies of a given string.\n",
    "st = input('Enter String: ')\n",
    "copy = int(input('How many copies do you want: '))\n",
    "for i in range(copy):\n",
    "    print(st)\n",
    "    "
   ]
  },
  {
   "cell_type": "code",
   "execution_count": 17,
   "metadata": {},
   "outputs": [
    {
     "name": "stdout",
     "output_type": "stream",
     "text": [
      "Enter the Number: 4\n",
      "4 is Odd\n"
     ]
    }
   ],
   "source": [
    "# Write a Python program to find whether a given number (accept from the user) is even or odd, print out an appropriate message to the user\n",
    "\n",
    "number = int(input('Enter the Number: '))\n",
    "if(number%2 == 0):\n",
    "    print(\"{} is Odd\".format(number))\n",
    "else:\n",
    "    print(\"{} is Even\".format(number))"
   ]
  },
  {
   "cell_type": "code",
   "execution_count": 33,
   "metadata": {},
   "outputs": [
    {
     "name": "stdout",
     "output_type": "stream",
     "text": [
      "Enter a Character: A\n",
      "a is not a Vowel!\n"
     ]
    }
   ],
   "source": [
    "# Write a Python program to test whether a passed letter is a vowel or not\n",
    "char = input('Enter a Character: ')\n",
    "if char == 'A' and char == 'a' and char == 'E' and char == 'e' and char == 'I' and char == 'i' and char == 'O' and char == 'o' and char == 'U' and char == 'u':\n",
    "    print('{} is a Vowel!'.format(char))\n",
    "else:\n",
    "    print('{} is not a Vowel!'.format(char))"
   ]
  },
  {
   "cell_type": "code",
   "execution_count": 20,
   "metadata": {},
   "outputs": [
    {
     "name": "stdout",
     "output_type": "stream",
     "text": [
      "Enter the base of a triangle: 4\n",
      "Enter the height of a triangle: 4\n",
      "The Area of Triangle with base 4.0 and height 4.0 is 8.0\n"
     ]
    }
   ],
   "source": [
    "# Write a Python program that will accept the base and height of a triangle and compute the area\n",
    "base = float(input('Enter the base of a triangle: '))\n",
    "height = float(input('Enter the height of a triangle: '))\n",
    "area = (1/2) * base * height\n",
    "print('The Area of Triangle with base {} and height {} is {}'.format(base, height, area))"
   ]
  },
  {
   "cell_type": "code",
   "execution_count": 23,
   "metadata": {},
   "outputs": [
    {
     "name": "stdout",
     "output_type": "stream",
     "text": [
      "Input Prinicipal: 100\n",
      "Enter rate of interest in %: 5\n",
      "Enter time ion years: 1\n",
      "Interest is 5.0\n"
     ]
    }
   ],
   "source": [
    "# Write a Python program to compute the future value of a specified principal amount, rate of interest, and a number of years\n",
    "principal = float(input(\"Input Prinicipal: \"))\n",
    "rate = float(input('Enter rate of interest in %: '))\n",
    "time = float(input('Enter time ion years: '))\n",
    "interest = principal * (rate/100) * time\n",
    "print('Interest is {}'.format(interest))"
   ]
  },
  {
   "cell_type": "code",
   "execution_count": 31,
   "metadata": {},
   "outputs": [
    {
     "name": "stdout",
     "output_type": "stream",
     "text": [
      "Enter Co-ordinate for x1: 2\n",
      "Enter Co-ordinate for y1: 4\n",
      "Enter Co-ordinate for x2: 4\n",
      "Enter Co-ordinate for y2: 4\n",
      "Distance between (2,4) and (4,4) is 2.0\n"
     ]
    }
   ],
   "source": [
    "# Write a Python program to compute the distance between the points (x1, y1) and (x2, y2).\n",
    "import math\n",
    "x1 = int(input('Enter Co-ordinate for x1: '))\n",
    "y1 = int(input('Enter Co-ordinate for y1: '))\n",
    "x2 = int(input('Enter Co-ordinate for x2: '))\n",
    "y2 = int(input('Enter Co-ordinate for y2: '))\n",
    "\n",
    "ED = math.sqrt(pow(y1-x1, 2) + pow(y2-x2, 2))\n",
    "print('Distance between ({},{}) and ({},{}) is {}'.format(x1,y1,x2,y2,ED))"
   ]
  },
  {
   "cell_type": "code",
   "execution_count": 33,
   "metadata": {},
   "outputs": [
    {
     "name": "stdout",
     "output_type": "stream",
     "text": [
      "Enter Height in feets: 5\n",
      "There are 152.4 cm in height 5.0 feets\n"
     ]
    }
   ],
   "source": [
    "# Write a Python program to convert height in feet to centimetres.\n",
    "height = float(input('Enter Height in feets: '))\n",
    "cm = height * 30.48\n",
    "print('There are {} cm in height {} feets'.format(cm, height))"
   ]
  },
  {
   "cell_type": "code",
   "execution_count": 2,
   "metadata": {},
   "outputs": [
    {
     "name": "stdout",
     "output_type": "stream",
     "text": [
      "Enter your height in cm: 180\n",
      "Enter weight in kg: 75\n",
      "You BMI is 23.148148148148145\n"
     ]
    }
   ],
   "source": [
    "# Write a Python program to calculate body mass index\n",
    "height = float(input('Enter your height in cm: '))\n",
    "weight = float(input('Enter weight in kg: '))\n",
    "BMI = weight / pow(height/100, 2)\n",
    "print('You BMI is {}'.format(BMI))"
   ]
  },
  {
   "cell_type": "code",
   "execution_count": 9,
   "metadata": {},
   "outputs": [
    {
     "name": "stdout",
     "output_type": "stream",
     "text": [
      "Enter the value of n: 5\n",
      "Sum is 15.0\n"
     ]
    }
   ],
   "source": [
    "# Write a python program to sum of the first n positive integers\n",
    "n = int(input('Enter the value of n: '))\n",
    "sum = (n*(n+1))/2\n",
    "print('Sum is {}'.format(sum))"
   ]
  },
  {
   "cell_type": "code",
   "execution_count": 2,
   "metadata": {},
   "outputs": [
    {
     "name": "stdout",
     "output_type": "stream",
     "text": [
      "Enter a number: 123\n",
      "6\n"
     ]
    }
   ],
   "source": [
    "# Write a Python program to calculate the sum of the digits in an integer\n",
    "n = int(input('Enter a number: '))\n",
    "a = []\n",
    "total=0\n",
    "for i in str(n):\n",
    "    a.append(i)\n",
    "for b in range(0, len(a)):\n",
    "     total = total + int(a[b])\n",
    "print(total)"
   ]
  },
  {
   "cell_type": "code",
   "execution_count": 25,
   "metadata": {},
   "outputs": [
    {
     "name": "stdout",
     "output_type": "stream",
     "text": [
      "Enter the Decimal number: 13\n",
      "1101\n"
     ]
    }
   ],
   "source": [
    "# Write a Python program to convert an decimal integer to binary\n",
    "deci = int(input('Enter the Decimal number: '))\n",
    "q=1\n",
    "a = []\n",
    "while q != 0:\n",
    "    q = deci // 2\n",
    "#     print('{}'.format(), end='')\n",
    "    a.append(deci%2)\n",
    "    deci = q\n",
    "print(*a[::-1],sep='')"
   ]
  },
  {
   "cell_type": "code",
   "execution_count": 85,
   "metadata": {},
   "outputs": [
    {
     "name": "stdout",
     "output_type": "stream",
     "text": [
      "Enter binary expression: 1101\n",
      "Your decimal number is: 13\n"
     ]
    }
   ],
   "source": [
    "# Write a program to convert binary number to Decimal number\n",
    "binary = input('Enter binary expression: ')\n",
    "print('Your decimal number is:', int(binary, 2))"
   ]
  },
  {
   "cell_type": "code",
   "execution_count": 81,
   "metadata": {},
   "outputs": [
    {
     "name": "stdout",
     "output_type": "stream",
     "text": [
      "Enter Text: hello i am hammad\n",
      "Vowel is 0\n",
      "Consonant is 14\n",
      "Spaces is 3\n"
     ]
    }
   ],
   "source": [
    "# Input a text and count the occurrences of vowels and consonant\n",
    "text = input('Enter Text: ')\n",
    "vowel = 0\n",
    "consonant = 0\n",
    "space = 0\n",
    "for e in text:\n",
    "    if ord(e) == 65 and ord(e) == 97 and ord(e) == 69 and ord(e) == 101 and ord(e) == 73 and ord(e) == 105 and ord(e) == 79 and ord(e) == 111 and ord(e) == 85 and ord(e) == 117:\n",
    "        vowel += 1\n",
    "    elif ord(e) == 32:\n",
    "        space += 1\n",
    "    else:\n",
    "        consonant += 1\n",
    "print(\"Vowel is {}\\nConsonant is {}\\nSpaces is {}\".format(vowel, consonant, space))"
   ]
  },
  {
   "cell_type": "code",
   "execution_count": 39,
   "metadata": {},
   "outputs": [
    {
     "name": "stdout",
     "output_type": "stream",
     "text": [
      "Enter a word to check its palindrome or not: pop\n",
      "Yes it is!\n"
     ]
    }
   ],
   "source": [
    "# Write a program to check whether given input is palindrome or not\n",
    "word = input('Enter a word to check its palindrome or not: ')\n",
    "a = []\n",
    "for e in word:\n",
    "    a.append(e)\n",
    "if a[::-1] == list(word):\n",
    "    print(\"Yes it is!\")\n",
    "else:\n",
    "    print('No its not!')"
   ]
  },
  {
   "cell_type": "code",
   "execution_count": 43,
   "metadata": {},
   "outputs": [
    {
     "name": "stdout",
     "output_type": "stream",
     "text": [
      "Enter the text: hello my username in hammad786 and what'sup\n",
      "Letters = 33\n",
      "Numbers = 3\n",
      "Spaces = 6\n",
      "Special Char = 1\n"
     ]
    }
   ],
   "source": [
    "# Write a Python program that accepts a string and calculate the number of digits and letters\n",
    "text = input('Enter the text: ')\n",
    "letters = 0\n",
    "numbers = 0\n",
    "spc = 0\n",
    "space = 0\n",
    "for e in text:\n",
    "    if (ord(e)>=65 and ord(e)<=90) or (ord(e)>=97 and ord(e)<=122):\n",
    "        letters += 1\n",
    "    elif ord(e) == 32:\n",
    "        space += 1\n",
    "    elif ord(e)>=48 and ord(e)<=57:\n",
    "        numbers += 1\n",
    "    else:\n",
    "        spc+=1\n",
    "print('Letters = {}\\nNumbers = {}\\nSpaces = {}\\nSpecial Char = {}'.format(letters, numbers, space, spc))\n",
    "        "
   ]
  },
  {
   "cell_type": "code",
   "execution_count": 48,
   "metadata": {},
   "outputs": [
    {
     "name": "stdout",
     "output_type": "stream",
     "text": [
      "How many rows do you want? 4\n",
      "* \n",
      "* * \n",
      "* * * \n",
      "* * * * \n",
      "* * * \n",
      "* * \n",
      "* \n",
      "\n"
     ]
    }
   ],
   "source": [
    "# Write a Python program to construct the following pattern\n",
    "rows = int(input('How many rows do you want? '))\n",
    "for i in range (0, rows):\n",
    "    for j in range(0, i + 1):\n",
    "        print(\"*\", end=' ')\n",
    "    print(\"\\r\")\n",
    "for i in range (rows, 0, -1):\n",
    "    for j in range(0, i -1):\n",
    "        print(\"*\", end=' ')\n",
    "    print(\"\\r\")"
   ]
  },
  {
   "cell_type": "code",
   "execution_count": 53,
   "metadata": {},
   "outputs": [
    {
     "name": "stdout",
     "output_type": "stream",
     "text": [
      "How many rows do you want? 6\n",
      "\n",
      "1 \n",
      "1 2 \n",
      "1 2 3 \n",
      "1 2 3 4 \n",
      "1 2 3 4 5 \n",
      "1 2 3 4 \n",
      "1 2 3 \n",
      "1 2 \n",
      "1 \n",
      "\n",
      "\n"
     ]
    }
   ],
   "source": [
    "# Write a Python program to construct the following pattern\n",
    "rows = int(input('How many rows do you want? '))\n",
    "for i in range (0, rows):\n",
    "    for j in range(1, i + 1):\n",
    "        print(\"{}\".format(j), end=' ')\n",
    "    print(\"\\r\")\n",
    "for i in range (rows, 0, -1):\n",
    "    for j in range(1, i -1):\n",
    "        print(\"{}\".format(j), end=' ')\n",
    "    print(\"\\r\")"
   ]
  },
  {
   "cell_type": "code",
   "execution_count": 80,
   "metadata": {},
   "outputs": [
    {
     "name": "stdout",
     "output_type": "stream",
     "text": [
      "How many rows do you want: 10\n",
      "0\n",
      "11\n",
      "222\n",
      "3333\n",
      "44444\n",
      "555555\n",
      "6666666\n",
      "77777777\n",
      "888888888\n",
      "9999999999\n"
     ]
    }
   ],
   "source": [
    "# Write a Python program to construct the following pattern\n",
    "rows = int(input('How many rows do you want: '))\n",
    "for i in range(rows):\n",
    "    for j in range(i+1):\n",
    "        print(i, end = '')\n",
    "    print('\\r')"
   ]
  }
 ],
 "metadata": {
  "kernelspec": {
   "display_name": "Python 3",
   "language": "python",
   "name": "python3"
  },
  "language_info": {
   "codemirror_mode": {
    "name": "ipython",
    "version": 3
   },
   "file_extension": ".py",
   "mimetype": "text/x-python",
   "name": "python",
   "nbconvert_exporter": "python",
   "pygments_lexer": "ipython3",
   "version": "3.7.3"
  }
 },
 "nbformat": 4,
 "nbformat_minor": 2
}
